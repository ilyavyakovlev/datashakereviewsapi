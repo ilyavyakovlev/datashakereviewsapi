{
 "cells": [
  {
   "cell_type": "code",
   "execution_count": 154,
   "id": "ca29c240",
   "metadata": {},
   "outputs": [],
   "source": [
    "import ipytest\n",
    "ipytest.autoconfig()\n",
    "\n",
    "import pytest\n",
    "from unittest import mock\n",
    "import datetime as dt\n",
    "import pandas as pd\n",
    "import pickle\n",
    "import requests\n",
    "from datashakereviewsapi._api import _prepare_date\n",
    "from datashakereviewsapi._api import APIResponseError\n",
    "from datashakereviewsapi import DatashakeReviewAPI"
   ]
  },
  {
   "cell_type": "code",
   "execution_count": 157,
   "id": "99d041c6",
   "metadata": {},
   "outputs": [
    {
     "name": "stdout",
     "output_type": "stream",
     "text": [
      "\u001b[32m.\u001b[0m\u001b[32m.\u001b[0m"
     ]
    },
    {
     "name": "stderr",
     "output_type": "stream",
     "text": [
      "%%run_pytest[clean] and %%run_pytest are deprecated in favor of %%ipytest. %%ipytest will clean tests, evaluate the cell and then run pytest. To disable cleaning, configure ipytest with ipytest.config(clean=False).\n"
     ]
    },
    {
     "name": "stdout",
     "output_type": "stream",
     "text": [
      "\u001b[32m.\u001b[0m\u001b[32m.\u001b[0m\u001b[32m.\u001b[0m\u001b[32m                                                                                        [100%]\u001b[0m\n",
      "\u001b[32m\u001b[32m\u001b[1m5 passed\u001b[0m\u001b[32m in 0.69s\u001b[0m\u001b[0m\n"
     ]
    }
   ],
   "source": [
    "%%run_pytest\n",
    "\n",
    "def test_prepare_date():\n",
    "\n",
    "    assert _prepare_date('2021-01-01 T23:00:00') == '2021-01-01'\n",
    "    assert _prepare_date(dt.date(2021, 9, 30)) == '2021-09-30'\n",
    "    assert _prepare_date(dt.datetime(2021, 9, 30)) == '2021-09-30'\n",
    "    with pytest.raises(ValueError):\n",
    "        _prepare_date('drft2021-01-01 T23:00:00')\n",
    "\n",
    "@pytest.fixture\n",
    "def get_api():\n",
    "    return DatashakeReviewAPI('aaaaaaaaaaaaaaaaaaaaaaaaaaaaaaaaaaaaaaaa')\n",
    "\n",
    "class FakeResponse(requests.Request):\n",
    "    \n",
    "    def __init__(self, text):\n",
    "        self.ok = True\n",
    "        self.text = text\n",
    "\n",
    "def mocked_get_job_status_request():\n",
    "    \n",
    "    with open('testdata/mock_job_status_response', 'rb') as file:\n",
    "        response = pickle.load(file)\n",
    "    response.__class__ = requests.models.Response\n",
    "    \n",
    "    return None\n",
    "\n",
    "\n",
    "def test_api_init():\n",
    "\n",
    "    assert str(type(DatashakeReviewAPI('aaaaaaaaaaaaaaaaaaaaaaaaaaaaaaaaaaaaaaaa'))) == \\\n",
    "        \"<class 'datashakereviewsapi._api.DatashakeReviewAPI'>\"\n",
    "    with pytest.raises(ValueError):\n",
    "        DatashakeReviewAPI('aaa')\n",
    "\n",
    "def test_get_job_status():\n",
    "\n",
    "    api = DatashakeReviewAPI('aaaaaaaaaaaaaaaaaaaaaaaaaaaaaaaaaaaaaaaa')\n",
    "    with mock.patch('requests.request') as mocked_function:\n",
    "        mocked_function.side_effect = mocked_get_job_status_request()\n",
    "        api.get_job_status('fake_job_id')\n",
    "    \n",
    "    with pytest.raises(APIResponseError):\n",
    "        api.get_job_status('fake_job_id')\n",
    "\n",
    "def test_get_job_reviews(get_api):\n",
    "\n",
    "    api = get_api\n",
    "\n",
    "    with mock.patch('requests.request') as mocked_function:\n",
    "        mocked_function.side_effect = mocked_get_job_status_request()\n",
    "        api.get_job_reviews('fake_job_id')\n",
    "    \n",
    "    with pytest.raises(APIResponseError):\n",
    "        api.get_job_reviews('fake_job_id')\n",
    "\n",
    "def test_schedule_job_list(get_api):\n",
    "\n",
    "    api = get_api\n",
    "\n",
    "    df = pd.DataFrame(columns=['Website', 'url', 'latest_job_id', 'status', 'last_crawl',\n",
    "           'latest_schedule_message'])\n",
    "    df['url'] = ['test_url']    \n",
    "\n",
    "    with mock.patch('requests.request') as mocked_function:\n",
    "        mocked_function.side_effect = mocked_get_job_status_request()\n",
    "        api.schedule_job_list(df)"
   ]
  },
  {
   "cell_type": "code",
   "execution_count": null,
   "id": "cfa2f407",
   "metadata": {},
   "outputs": [],
   "source": []
  },
  {
   "cell_type": "code",
   "execution_count": null,
   "id": "22ac8d34",
   "metadata": {},
   "outputs": [],
   "source": []
  },
  {
   "cell_type": "code",
   "execution_count": null,
   "id": "b594701d",
   "metadata": {},
   "outputs": [],
   "source": []
  },
  {
   "cell_type": "code",
   "execution_count": null,
   "id": "52282a99",
   "metadata": {},
   "outputs": [],
   "source": []
  },
  {
   "cell_type": "code",
   "execution_count": null,
   "id": "5fd18543",
   "metadata": {},
   "outputs": [],
   "source": []
  },
  {
   "cell_type": "code",
   "execution_count": null,
   "id": "9bf4c909",
   "metadata": {},
   "outputs": [],
   "source": []
  },
  {
   "cell_type": "code",
   "execution_count": null,
   "id": "e313af6b",
   "metadata": {},
   "outputs": [],
   "source": []
  },
  {
   "cell_type": "code",
   "execution_count": null,
   "id": "ae87af1a",
   "metadata": {},
   "outputs": [],
   "source": []
  },
  {
   "cell_type": "code",
   "execution_count": null,
   "id": "e4fddefc",
   "metadata": {},
   "outputs": [],
   "source": []
  },
  {
   "cell_type": "code",
   "execution_count": null,
   "id": "60309455",
   "metadata": {},
   "outputs": [],
   "source": []
  },
  {
   "cell_type": "code",
   "execution_count": null,
   "id": "16057de5",
   "metadata": {},
   "outputs": [],
   "source": []
  },
  {
   "cell_type": "code",
   "execution_count": null,
   "id": "0e07065d",
   "metadata": {},
   "outputs": [],
   "source": []
  },
  {
   "cell_type": "code",
   "execution_count": null,
   "id": "10a90142",
   "metadata": {},
   "outputs": [],
   "source": []
  },
  {
   "cell_type": "code",
   "execution_count": null,
   "id": "c2e41335",
   "metadata": {},
   "outputs": [],
   "source": []
  },
  {
   "cell_type": "code",
   "execution_count": 13,
   "id": "ad24ac82",
   "metadata": {},
   "outputs": [
    {
     "name": "stdout",
     "output_type": "stream",
     "text": [
      "\u001b[1m============================= test session starts ==============================\u001b[0m\n",
      "platform darwin -- Python 3.9.4, pytest-6.2.3, py-1.10.0, pluggy-0.13.1\n",
      "rootdir: /Users/iyakovle/Philip Morris International/UK Channel Performance - 1. Central Files/8. Projects/2021-09-24 Product Reviews/datashakereviewsapi\n",
      "plugins: anyio-2.2.0\n",
      "collected 5 items                                                              \u001b[0m\u001b[1m\n",
      "\n",
      "test.py \u001b[32m.\u001b[0m\u001b[32m.\u001b[0m\u001b[32m.\u001b[0m\u001b[32m.\u001b[0m\u001b[32m.\u001b[0m\u001b[32m                                                            [100%]\u001b[0m\n",
      "\n",
      "\u001b[32m============================== \u001b[32m\u001b[1m5 passed\u001b[0m\u001b[32m in 2.07s\u001b[0m\u001b[32m ===============================\u001b[0m\n",
      "Name                              Stmts   Miss  Cover\n",
      "-----------------------------------------------------\n",
      "datashakereviewsapi/__init__.py       2      0   100%\n",
      "datashakereviewsapi/_api.py         164    108    34%\n",
      "test.py                              28      0   100%\n",
      "-----------------------------------------------------\n",
      "TOTAL                               194    108    44%\n"
     ]
    }
   ],
   "source": [
    "! coverage run -m pytest test.py\n",
    "! coverage report"
   ]
  },
  {
   "cell_type": "code",
   "execution_count": null,
   "id": "39eed2cc",
   "metadata": {},
   "outputs": [],
   "source": []
  },
  {
   "cell_type": "code",
   "execution_count": null,
   "id": "3ba53ab6",
   "metadata": {},
   "outputs": [],
   "source": []
  },
  {
   "cell_type": "code",
   "execution_count": 16,
   "id": "a1b10f76",
   "metadata": {},
   "outputs": [],
   "source": [
    "api = DatashakeReviewAPI('08325877f92a79f4979cc5bdb44876220e5afafe', \n",
    "                         min_days_since_last_crawl=1)"
   ]
  },
  {
   "cell_type": "code",
   "execution_count": 17,
   "id": "d4b518a1",
   "metadata": {},
   "outputs": [
    {
     "data": {
      "text/plain": [
       "{'success': True,\n",
       " 'status': 200,\n",
       " 'job_id': 297350141,\n",
       " 'source_url': 'https://www.amazon.co.uk/IQOS-Grey-Heat-Burn-technology/dp/B08BJNSFMG/ref=sr_1_1?dchild=1&keywords=iqos&qid=1635109714&qsid=261-2675140-7114924&rdc=1&sr=8-1&sres=B08BJNSFMG,B08BJNK6LK,B075V2N8F1,B08BJMWCJR,B08BJMXXYQ,B07PHF4RKC,B07GY541YH,B08BD2SJMF,B077BHKF8M,B077B12QNP,B08BS98MJJ,B08BSCQN7D,B07W4HDNKN,B08BS98MKV,B06XZT8KZ1,B08BD4PXS9,B07QYWW7ZJ,B01MS7O8C1,B001E5CDU0,B08Q46WBJP',\n",
       " 'source_name': 'amazon',\n",
       " 'place_id': None,\n",
       " 'external_identifier': None,\n",
       " 'meta_data': '{\"star_ratings\":{\"1star\":\"5%\",\"2star\":\"1%\",\"3star\":\"6%\",\"4star\":\"8%\",\"5star\":\"79%\"}}',\n",
       " 'unique_id': None,\n",
       " 'review_count': 205,\n",
       " 'average_rating': 4.5,\n",
       " 'last_crawl': '2021-11-22',\n",
       " 'crawl_status': 'complete',\n",
       " 'percentage_complete': 100,\n",
       " 'result_count': 3,\n",
       " 'credits_used': 11,\n",
       " 'from_date': None,\n",
       " 'blocks': None}"
      ]
     },
     "execution_count": 17,
     "metadata": {},
     "output_type": "execute_result"
    }
   ],
   "source": [
    "api.get_job_status('297350141')"
   ]
  },
  {
   "cell_type": "code",
   "execution_count": 23,
   "id": "0eeca1cc",
   "metadata": {},
   "outputs": [],
   "source": [
    "import requests\n",
    "url = \"https://app.datashake.com/api/v2/profiles/info\"\n",
    "querystring = {\"job_id\": str('297350141')}\n",
    "headers = {\n",
    "    'spiderman-token': '08325877f92a79f4979cc5bdb44876220e5afafe',\n",
    "    }\n",
    "response = requests.request(\"GET\", url, headers=headers,\n",
    "                            params=querystring)"
   ]
  },
  {
   "cell_type": "code",
   "execution_count": 58,
   "id": "9d64bfab",
   "metadata": {},
   "outputs": [
    {
     "data": {
      "text/plain": [
       "requests.models.Response"
      ]
     },
     "execution_count": 58,
     "metadata": {},
     "output_type": "execute_result"
    }
   ],
   "source": [
    "type(response)"
   ]
  },
  {
   "cell_type": "code",
   "execution_count": 73,
   "id": "656b8113",
   "metadata": {},
   "outputs": [
    {
     "ename": "AttributeError",
     "evalue": "can't set attribute",
     "output_type": "error",
     "traceback": [
      "\u001b[0;31m---------------------------------------------------------------------------\u001b[0m",
      "\u001b[0;31mAttributeError\u001b[0m                            Traceback (most recent call last)",
      "\u001b[0;32m<ipython-input-73-139f5f544035>\u001b[0m in \u001b[0;36m<module>\u001b[0;34m\u001b[0m\n\u001b[1;32m      1\u001b[0m \u001b[0mresp\u001b[0m \u001b[0;34m=\u001b[0m \u001b[0mrequests\u001b[0m\u001b[0;34m.\u001b[0m\u001b[0mmodels\u001b[0m\u001b[0;34m.\u001b[0m\u001b[0mResponse\u001b[0m\u001b[0;34m(\u001b[0m\u001b[0;34m)\u001b[0m\u001b[0;34m\u001b[0m\u001b[0;34m\u001b[0m\u001b[0m\n\u001b[1;32m      2\u001b[0m \u001b[0mresp\u001b[0m\u001b[0;34m.\u001b[0m\u001b[0mstatus_code\u001b[0m \u001b[0;34m=\u001b[0m \u001b[0;36m200\u001b[0m\u001b[0;34m\u001b[0m\u001b[0;34m\u001b[0m\u001b[0m\n\u001b[0;32m----> 3\u001b[0;31m resp.text = \"\"\"\n\u001b[0m\u001b[1;32m      4\u001b[0m     {'success': True,\n\u001b[1;32m      5\u001b[0m      \u001b[0;34m'status'\u001b[0m\u001b[0;34m:\u001b[0m \u001b[0;36m200\u001b[0m\u001b[0;34m,\u001b[0m\u001b[0;34m\u001b[0m\u001b[0;34m\u001b[0m\u001b[0m\n",
      "\u001b[0;31mAttributeError\u001b[0m: can't set attribute"
     ]
    }
   ],
   "source": [
    "resp = requests.models.Response()\n",
    "resp.status_code = 200\n",
    "resp.text = \"\"\"\n",
    "    {'success': True,\n",
    "     'status': 200,\n",
    "     'job_id': 297350141,\n",
    "     'source_url': 'https://www.amazon.co.uk/IQOS-Grey-Heat-Burn-technology/dp/B08BJNSFMG/ref=sr_1_1?dchild=1&keywords=iqos&qid=1635109714&qsid=261-2675140-7114924&rdc=1&sr=8-1&sres=B08BJNSFMG,B08BJNK6LK,B075V2N8F1,B08BJMWCJR,B08BJMXXYQ,B07PHF4RKC,B07GY541YH,B08BD2SJMF,B077BHKF8M,B077B12QNP,B08BS98MJJ,B08BSCQN7D,B07W4HDNKN,B08BS98MKV,B06XZT8KZ1,B08BD4PXS9,B07QYWW7ZJ,B01MS7O8C1,B001E5CDU0,B08Q46WBJP',\n",
    "     'source_name': 'amazon',\n",
    "     'place_id': None,\n",
    "     'external_identifier': None,\n",
    "     'meta_data': '{\"star_ratings\":{\"1star\":\"5%\",\"2star\":\"1%\",\"3star\":\"6%\",\"4star\":\"8%\",\"5star\":\"79%\"}}',\n",
    "     'unique_id': None,\n",
    "     'review_count': 205,\n",
    "     'average_rating': 4.5,\n",
    "     'last_crawl': '2021-11-22',\n",
    "     'crawl_status': 'complete',\n",
    "     'percentage_complete': 100,\n",
    "     'result_count': 3,\n",
    "     'credits_used': 11,\n",
    "     'from_date': None,\n",
    "     'blocks': None}\"\"\""
   ]
  },
  {
   "cell_type": "code",
   "execution_count": 92,
   "id": "050c2ffe",
   "metadata": {},
   "outputs": [
    {
     "data": {
      "text/plain": [
       "'{\"success\":true,\"status\":200,\"job_id\":297350141,\"source_url\":\"https://www.amazon.co.uk/IQOS-Grey-Heat-Burn-technology/dp/B08BJNSFMG/ref=sr_1_1?dchild=1\\\\u0026keywords=iqos\\\\u0026qid=1635109714\\\\u0026qsid=261-2675140-7114924\\\\u0026rdc=1\\\\u0026sr=8-1\\\\u0026sres=B08BJNSFMG,B08BJNK6LK,B075V2N8F1,B08BJMWCJR,B08BJMXXYQ,B07PHF4RKC,B07GY541YH,B08BD2SJMF,B077BHKF8M,B077B12QNP,B08BS98MJJ,B08BSCQN7D,B07W4HDNKN,B08BS98MKV,B06XZT8KZ1,B08BD4PXS9,B07QYWW7ZJ,B01MS7O8C1,B001E5CDU0,B08Q46WBJP\",\"source_name\":\"amazon\",\"place_id\":null,\"external_identifier\":null,\"meta_data\":\"{\\\\\"star_ratings\\\\\":{\\\\\"1star\\\\\":\\\\\"5%\\\\\",\\\\\"2star\\\\\":\\\\\"1%\\\\\",\\\\\"3star\\\\\":\\\\\"6%\\\\\",\\\\\"4star\\\\\":\\\\\"8%\\\\\",\\\\\"5star\\\\\":\\\\\"79%\\\\\"}}\",\"unique_id\":null,\"review_count\":205,\"average_rating\":4.5,\"last_crawl\":\"2021-11-22\",\"crawl_status\":\"complete\",\"percentage_complete\":100,\"result_count\":3,\"credits_used\":11,\"from_date\":null,\"blocks\":null}'"
      ]
     },
     "execution_count": 92,
     "metadata": {},
     "output_type": "execute_result"
    }
   ],
   "source": [
    "response.text"
   ]
  },
  {
   "cell_type": "code",
   "execution_count": 144,
   "id": "b6b3dbc8",
   "metadata": {},
   "outputs": [
    {
     "data": {
      "text/plain": [
       "True"
      ]
     },
     "execution_count": 144,
     "metadata": {},
     "output_type": "execute_result"
    }
   ],
   "source": [
    "resp6 = response\n",
    "resp6.ok"
   ]
  },
  {
   "cell_type": "code",
   "execution_count": 93,
   "id": "62b1d78e",
   "metadata": {},
   "outputs": [],
   "source": [
    "with open('testdata/mock_job_status_response', 'wb') as file:\n",
    "    pickle.dump(response, file)\n"
   ]
  },
  {
   "cell_type": "code",
   "execution_count": 94,
   "id": "dfe4c7a9",
   "metadata": {},
   "outputs": [],
   "source": [
    "with open('testdata/mock_job_status_response', 'rb') as file:\n",
    "    resp5 = pickle.load(file)"
   ]
  },
  {
   "cell_type": "code",
   "execution_count": 138,
   "id": "c12c4630",
   "metadata": {},
   "outputs": [
    {
     "data": {
      "text/plain": [
       "True"
      ]
     },
     "execution_count": 138,
     "metadata": {},
     "output_type": "execute_result"
    }
   ],
   "source": [
    "resp5.__class__ = requests.models.Response\n",
    "resp5.ok"
   ]
  },
  {
   "cell_type": "code",
   "execution_count": 99,
   "id": "63ec11ac",
   "metadata": {},
   "outputs": [
    {
     "ename": "TypeError",
     "evalue": "compile() missing required argument 'filename' (pos 2)",
     "output_type": "error",
     "traceback": [
      "\u001b[0;31m---------------------------------------------------------------------------\u001b[0m",
      "\u001b[0;31mTypeError\u001b[0m                                 Traceback (most recent call last)",
      "\u001b[0;32m<ipython-input-99-d5bc34499a5c>\u001b[0m in \u001b[0;36m<module>\u001b[0;34m\u001b[0m\n\u001b[0;32m----> 1\u001b[0;31m \u001b[0mcompile\u001b[0m\u001b[0;34m(\u001b[0m\u001b[0mresp5\u001b[0m\u001b[0;34m)\u001b[0m\u001b[0;34m\u001b[0m\u001b[0;34m\u001b[0m\u001b[0m\n\u001b[0m",
      "\u001b[0;31mTypeError\u001b[0m: compile() missing required argument 'filename' (pos 2)"
     ]
    }
   ],
   "source": [
    "compile(resp5)"
   ]
  },
  {
   "cell_type": "code",
   "execution_count": 109,
   "id": "964731dc",
   "metadata": {},
   "outputs": [
    {
     "ename": "AttributeError",
     "evalue": "can't set attribute",
     "output_type": "error",
     "traceback": [
      "\u001b[0;31m---------------------------------------------------------------------------\u001b[0m",
      "\u001b[0;31mAttributeError\u001b[0m                            Traceback (most recent call last)",
      "\u001b[0;32m<ipython-input-109-5f491caacbf0>\u001b[0m in \u001b[0;36m<module>\u001b[0;34m\u001b[0m\n\u001b[1;32m      5\u001b[0m         \u001b[0mself\u001b[0m\u001b[0;34m.\u001b[0m\u001b[0mtext\u001b[0m \u001b[0;34m=\u001b[0m \u001b[0mtext\u001b[0m\u001b[0;34m\u001b[0m\u001b[0;34m\u001b[0m\u001b[0m\n\u001b[1;32m      6\u001b[0m \u001b[0;34m\u001b[0m\u001b[0m\n\u001b[0;32m----> 7\u001b[0;31m \u001b[0mfakeresponse\u001b[0m \u001b[0;34m=\u001b[0m \u001b[0mFakeResponse\u001b[0m\u001b[0;34m(\u001b[0m\u001b[0;34m'efafwsfrw'\u001b[0m\u001b[0;34m)\u001b[0m\u001b[0;34m\u001b[0m\u001b[0;34m\u001b[0m\u001b[0m\n\u001b[0m",
      "\u001b[0;32m<ipython-input-109-5f491caacbf0>\u001b[0m in \u001b[0;36m__init__\u001b[0;34m(self, text)\u001b[0m\n\u001b[1;32m      3\u001b[0m     \u001b[0;32mdef\u001b[0m \u001b[0m__init__\u001b[0m\u001b[0;34m(\u001b[0m\u001b[0mself\u001b[0m\u001b[0;34m,\u001b[0m \u001b[0mtext\u001b[0m\u001b[0;34m)\u001b[0m\u001b[0;34m:\u001b[0m\u001b[0;34m\u001b[0m\u001b[0;34m\u001b[0m\u001b[0m\n\u001b[1;32m      4\u001b[0m         \u001b[0mself\u001b[0m\u001b[0;34m.\u001b[0m\u001b[0mstatus_code\u001b[0m \u001b[0;34m=\u001b[0m \u001b[0;36m200\u001b[0m\u001b[0;34m\u001b[0m\u001b[0;34m\u001b[0m\u001b[0m\n\u001b[0;32m----> 5\u001b[0;31m         \u001b[0mself\u001b[0m\u001b[0;34m.\u001b[0m\u001b[0mtext\u001b[0m \u001b[0;34m=\u001b[0m \u001b[0mtext\u001b[0m\u001b[0;34m\u001b[0m\u001b[0;34m\u001b[0m\u001b[0m\n\u001b[0m\u001b[1;32m      6\u001b[0m \u001b[0;34m\u001b[0m\u001b[0m\n\u001b[1;32m      7\u001b[0m \u001b[0mfakeresponse\u001b[0m \u001b[0;34m=\u001b[0m \u001b[0mFakeResponse\u001b[0m\u001b[0;34m(\u001b[0m\u001b[0;34m'efafwsfrw'\u001b[0m\u001b[0;34m)\u001b[0m\u001b[0;34m\u001b[0m\u001b[0;34m\u001b[0m\u001b[0m\n",
      "\u001b[0;31mAttributeError\u001b[0m: can't set attribute"
     ]
    }
   ],
   "source": [
    "\n",
    "class FakeResponse(requests.models.Response):\n",
    "\n",
    "    def __init__(self, text):\n",
    "        self.status_code = 200\n",
    "        self.text = text\n",
    "    \n",
    "fakeresponse = FakeResponse('efafwsfrw')"
   ]
  },
  {
   "cell_type": "code",
   "execution_count": 107,
   "id": "d2e521f4",
   "metadata": {},
   "outputs": [],
   "source": [
    "resp = requests.models.Response()"
   ]
  },
  {
   "cell_type": "code",
   "execution_count": 146,
   "id": "7b3bfacd",
   "metadata": {},
   "outputs": [
    {
     "ename": "AttributeError",
     "evalue": "'bytes' object has no attribute 'ok'",
     "output_type": "error",
     "traceback": [
      "\u001b[0;31m---------------------------------------------------------------------------\u001b[0m",
      "\u001b[0;31mAttributeError\u001b[0m                            Traceback (most recent call last)",
      "\u001b[0;32m<ipython-input-146-e3dfde04d2a2>\u001b[0m in \u001b[0;36m<module>\u001b[0;34m\u001b[0m\n\u001b[0;32m----> 1\u001b[0;31m \u001b[0mtest_get_job_status\u001b[0m\u001b[0;34m(\u001b[0m\u001b[0;34m)\u001b[0m\u001b[0;34m\u001b[0m\u001b[0;34m\u001b[0m\u001b[0m\n\u001b[0m",
      "\u001b[0;32m<ipython-input-145-5181a23a33d2>\u001b[0m in \u001b[0;36mtest_get_job_status\u001b[0;34m()\u001b[0m\n\u001b[1;32m     59\u001b[0m     \u001b[0;32mwith\u001b[0m \u001b[0mmock\u001b[0m\u001b[0;34m.\u001b[0m\u001b[0mpatch\u001b[0m\u001b[0;34m(\u001b[0m\u001b[0;34m'requests.request'\u001b[0m\u001b[0;34m)\u001b[0m \u001b[0;32mas\u001b[0m \u001b[0mmocked_function\u001b[0m\u001b[0;34m:\u001b[0m\u001b[0;34m\u001b[0m\u001b[0;34m\u001b[0m\u001b[0m\n\u001b[1;32m     60\u001b[0m         \u001b[0mmocked_function\u001b[0m\u001b[0;34m.\u001b[0m\u001b[0mside_effect\u001b[0m \u001b[0;34m=\u001b[0m \u001b[0mmocked_get_job_status_request\u001b[0m\u001b[0;34m(\u001b[0m\u001b[0;34m)\u001b[0m\u001b[0;34m\u001b[0m\u001b[0;34m\u001b[0m\u001b[0m\n\u001b[0;32m---> 61\u001b[0;31m         \u001b[0mapi\u001b[0m\u001b[0;34m.\u001b[0m\u001b[0mget_job_status\u001b[0m\u001b[0;34m(\u001b[0m\u001b[0;34m'fake_job_id'\u001b[0m\u001b[0;34m)\u001b[0m\u001b[0;34m\u001b[0m\u001b[0;34m\u001b[0m\u001b[0m\n\u001b[0m\u001b[1;32m     62\u001b[0m \u001b[0;34m\u001b[0m\u001b[0m\n\u001b[1;32m     63\u001b[0m     \u001b[0;32mwith\u001b[0m \u001b[0mpytest\u001b[0m\u001b[0;34m.\u001b[0m\u001b[0mraises\u001b[0m\u001b[0;34m(\u001b[0m\u001b[0mAPIResponseError\u001b[0m\u001b[0;34m)\u001b[0m\u001b[0;34m:\u001b[0m\u001b[0;34m\u001b[0m\u001b[0;34m\u001b[0m\u001b[0m\n",
      "\u001b[0;32m~/Philip Morris International/UK Channel Performance - 1. Central Files/8. Projects/2021-09-24 Product Reviews/datashakereviewsapi/datashakereviewsapi/_api.py\u001b[0m in \u001b[0;36mget_job_status\u001b[0;34m(self, job_id)\u001b[0m\n\u001b[1;32m    160\u001b[0m                                     params=querystring)\n\u001b[1;32m    161\u001b[0m \u001b[0;34m\u001b[0m\u001b[0m\n\u001b[0;32m--> 162\u001b[0;31m         \u001b[0;32mif\u001b[0m \u001b[0mresponse\u001b[0m\u001b[0;34m.\u001b[0m\u001b[0mok\u001b[0m \u001b[0;32mis\u001b[0m \u001b[0;32mFalse\u001b[0m\u001b[0;34m:\u001b[0m\u001b[0;34m\u001b[0m\u001b[0;34m\u001b[0m\u001b[0m\n\u001b[0m\u001b[1;32m    163\u001b[0m             \u001b[0merror_str\u001b[0m \u001b[0;34m=\u001b[0m \u001b[0;34m'API Connection Error. '\u001b[0m\u001b[0;34m\u001b[0m\u001b[0;34m\u001b[0m\u001b[0m\n\u001b[1;32m    164\u001b[0m             error_str += f\"\"\"Error code: {response.status_code} - \\\n",
      "\u001b[0;31mAttributeError\u001b[0m: 'bytes' object has no attribute 'ok'"
     ]
    }
   ],
   "source": [
    "test_get_job_status()"
   ]
  },
  {
   "cell_type": "code",
   "execution_count": null,
   "id": "d22428a6",
   "metadata": {},
   "outputs": [],
   "source": []
  }
 ],
 "metadata": {
  "kernelspec": {
   "display_name": "Python 3",
   "language": "python",
   "name": "python3"
  },
  "language_info": {
   "codemirror_mode": {
    "name": "ipython",
    "version": 3
   },
   "file_extension": ".py",
   "mimetype": "text/x-python",
   "name": "python",
   "nbconvert_exporter": "python",
   "pygments_lexer": "ipython3",
   "version": "3.9.4"
  }
 },
 "nbformat": 4,
 "nbformat_minor": 5
}
